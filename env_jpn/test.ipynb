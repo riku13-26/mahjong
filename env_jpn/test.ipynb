{
 "cells": [
  {
   "cell_type": "code",
   "execution_count": 2,
   "id": "b0e13a76",
   "metadata": {},
   "outputs": [],
   "source": [
    "from __future__ import annotations\n",
    "\n",
    "import itertools\n",
    "import random\n",
    "from typing import List\n",
    "\n",
    "# ------------------------------------------------------------\n",
    "# 牌に関する定数定義\n",
    "# ------------------------------------------------------------\n",
    "# 0〜8  : 萬子 1〜9\n",
    "# 9〜15 : 字牌（東=9, 南=10, 西=11, 北=12, 白=13, 發=14, 中=15）\n",
    "TILE_TYPES: List[int] = list(range(16))\n",
    "COPIES_PER_TILE: int = 4  # 各牌の枚数\n",
    "TOTAL_TILES: int = len(TILE_TYPES) * COPIES_PER_TILE  # 64 枚\n",
    "\n",
    "# 1 局で最大何枚まで捨てられるか（2 人×最大 18 巡を想定）\n",
    "MAX_DISCARDS: int = 18\n",
    "\n",
    "# 報酬テーブル（終局時に参照）\n",
    "REWARD_TABLE = {\n",
    "    \"tsumo\": {\"self\": 1.0, \"opp\": -0.5},\n",
    "    \"ron\":   {\"self\": 1.5, \"opp\": -1.5},\n",
    "    \"ryu_self_tenpai\": {\"self\": 0.2, \"opp\": -0.2},\n",
    "    \"ryu_opp_tenpai\": {\"self\": -0.2, \"opp\": 0.2},\n",
    "    \"ryu_noten\":  {\"self\": 0.0, \"opp\":  0.0},\n",
    "}"
   ]
  },
  {
   "cell_type": "code",
   "execution_count": 10,
   "id": "5088d343",
   "metadata": {},
   "outputs": [
    {
     "name": "stdout",
     "output_type": "stream",
     "text": [
      "[5, 6, 1, 5, 11, 8, 4, 14, 11, 2, 10, 4, 10, 7, 4, 5, 9, 10, 7, 5, 2, 12, 9, 12, 0, 7, 6, 13, 1, 14, 13, 12, 2, 0, 15, 7, 11, 6, 13, 3, 8, 13, 9, 8, 14, 3, 12, 15, 0, 6, 9, 1, 8, 14, 10, 1, 15, 2, 15, 3, 4, 11, 0, 3]\n",
      "64\n",
      "15\n",
      "0\n"
     ]
    }
   ],
   "source": [
    "# ------------------------------------------------------------\n",
    "# 山（ウォール）生成\n",
    "# ------------------------------------------------------------\n",
    "\n",
    "def init_wall(rng: random.Random | None = None) -> List[int]:\n",
    "    \"\"\"64 枚の牌をシャッフルして山（リスト）を生成する。\n",
    "\n",
    "    Parameters\n",
    "    ----------\n",
    "    rng : random.Random | None\n",
    "        乱数生成器。`None` の場合は内部で生成する。\n",
    "\n",
    "    Returns\n",
    "    -------\n",
    "    List[int]\n",
    "        シャッフル済みの牌 ID リスト（先頭が山の頂点）。\n",
    "    \"\"\"\n",
    "    if rng is None:\n",
    "        rng = random.Random()\n",
    "\n",
    "    wall: List[int] = []\n",
    "    for tile_id in TILE_TYPES:\n",
    "        wall.extend([tile_id] * COPIES_PER_TILE)\n",
    "    rng.shuffle(wall)\n",
    "    return wall\n",
    "\n",
    "test = init_wall(rng=random.Random(42))\n",
    "print(test)\n",
    "print(len(test))\n",
    "print(max(test))\n",
    "print(min(test))"
   ]
  },
  {
   "cell_type": "code",
   "execution_count": 13,
   "id": "807a2a19",
   "metadata": {},
   "outputs": [
    {
     "name": "stdout",
     "output_type": "stream",
     "text": [
      "[4, 4, 4, 4, 4, 4, 4, 4, 4, 4, 4, 4, 4, 4, 4, 4]\n",
      "[0, 0, 0, 0, 1, 1, 1, 1, 2, 2, 2, 2, 3, 3, 3, 3, 4, 4, 4, 4, 5, 5, 5, 5, 6, 6, 6, 6, 7, 7, 7, 7, 8, 8, 8, 8, 9, 9, 9, 9, 10, 10, 10, 10, 11, 11, 11, 11, 12, 12, 12, 12, 13, 13, 13, 13, 14, 14, 14, 14, 15, 15, 15, 15]\n"
     ]
    }
   ],
   "source": [
    "# ------------------------------------------------------------\n",
    "# 牌 ⇔ ベクトル変換\n",
    "# ------------------------------------------------------------\n",
    "\n",
    "def tiles_to_vector(tiles: List[int]) -> List[int]:\n",
    "    \"\"\"牌 ID リスト → 16 次元枚数ベクトルに変換する。\"\"\"\n",
    "    vec = [0] * len(TILE_TYPES)\n",
    "    for tid in tiles:\n",
    "        vec[tid] += 1\n",
    "    return vec\n",
    "\n",
    "\n",
    "def vector_to_tiles(vec: List[int]) -> List[int]:\n",
    "    \"\"\"16 次元枚数ベクトル → 牌 ID リストに変換する。\"\"\"\n",
    "    tiles: List[int] = []\n",
    "    for tid, count in enumerate(vec):\n",
    "        tiles.extend([tid] * count)\n",
    "    return tiles\n",
    "\n",
    "print(tiles_to_vector(test))\n",
    "print(vector_to_tiles(tiles_to_vector(test)))"
   ]
  },
  {
   "cell_type": "code",
   "execution_count": 21,
   "id": "3e2fecd8",
   "metadata": {},
   "outputs": [
    {
     "name": "stdout",
     "output_type": "stream",
     "text": [
      "対子 3\n",
      "first 0\n",
      "first 4\n",
      "first 4\n",
      "対子 4\n",
      "first 0\n",
      "first 3\n",
      "対子 5\n",
      "first 0\n",
      "first 3\n",
      "対子 13\n",
      "first 0\n",
      "first 3\n",
      "first 3\n",
      "first 6\n",
      "True\n"
     ]
    }
   ],
   "source": [
    "def check_win_vector(vec: List[int]) -> bool:\n",
    "    \"\"\"非常に単純化した和了形判定（順子・刻子のみ）。\n",
    "\n",
    "    - 七対子・国士・チートイなど複雑な役は無視。\n",
    "    - 順子（連続 3 枚）と 刻子（同一 3 枚）を 4 セット揃え、\n",
    "      残り 2 枚が同一牌の対子であれば和了とする。\n",
    "    - 字牌は刻子と対子のみとし、順子は成立しない。\n",
    "\n",
    "    参考実装のため厳密さよりシンプルさを優先。\n",
    "    \"\"\"\n",
    "    tiles_left = vec.copy()\n",
    "\n",
    "    # 対子を探してみる\n",
    "    for i in range(len(TILE_TYPES)):\n",
    "        if tiles_left[i] >= 2:\n",
    "            print('対子', i)\n",
    "            # 対子を一旦抜いて残り 12 枚を確認\n",
    "            tiles_left[i] -= 2\n",
    "            if _can_form_melds(tiles_left):\n",
    "                return True\n",
    "            tiles_left[i] += 2  # 戻す\n",
    "    return False\n",
    "\n",
    "def _can_form_melds(vec: List[int]) -> bool:\n",
    "    \"\"\"残り 12 枚がすべて順子/刻子で構成できるかを再帰的に判定。\"\"\"\n",
    "    # ベースケース：すべて 0 枚なら OK\n",
    "    if sum(vec) == 0:\n",
    "        return True\n",
    "\n",
    "    # 最初に見つかった牌 ID\n",
    "    first = next(i for i, c in enumerate(vec) if c > 0)\n",
    "    print('first', first)\n",
    "\n",
    "    # 1) 刻子を作るケース\n",
    "    if vec[first] >= 3:\n",
    "        vec[first] -= 3\n",
    "        if _can_form_melds(vec):\n",
    "            vec[first] += 3\n",
    "            return True\n",
    "        vec[first] += 3\n",
    "\n",
    "    # 2) 順子を作るケース（萬子のみ）\n",
    "    if first <= 6:  # 6 = 8‑2 で 7,8,9 は順子の先頭になれない\n",
    "        if vec[first + 1] > 0 and vec[first + 2] > 0:\n",
    "            vec[first] -= 1\n",
    "            vec[first + 1] -= 1\n",
    "            vec[first + 2] -= 1\n",
    "            if _can_form_melds(vec):\n",
    "                vec[first] += 1\n",
    "                vec[first + 1] += 1\n",
    "                vec[first + 2] += 1\n",
    "                return True\n",
    "            vec[first] += 1\n",
    "            vec[first + 1] += 1\n",
    "            vec[first + 2] += 1\n",
    "\n",
    "    return False\n",
    "\n",
    "winning_tiles = [0,1,2, 3,4,5, 3,4,5, 6,7,8, 13,13]\n",
    "non_win_tiles = [0,1,2, 3,4,5, 6,7,9, 10,11,12, 13,14]\n",
    "\n",
    "print(check_win_vector(tiles_to_vector(winning_tiles)))\n",
    "# print(check_win_vector(tiles_to_vector(non_win_tiles)))"
   ]
  },
  {
   "cell_type": "code",
   "execution_count": null,
   "id": "3ffe7268",
   "metadata": {},
   "outputs": [],
   "source": []
  },
  {
   "cell_type": "code",
   "execution_count": null,
   "id": "df4cb7d8",
   "metadata": {},
   "outputs": [],
   "source": []
  },
  {
   "cell_type": "code",
   "execution_count": null,
   "id": "792fb947",
   "metadata": {},
   "outputs": [],
   "source": []
  },
  {
   "cell_type": "code",
   "execution_count": null,
   "id": "91fbdbd5",
   "metadata": {},
   "outputs": [],
   "source": []
  },
  {
   "cell_type": "code",
   "execution_count": null,
   "id": "b6ca3e39",
   "metadata": {},
   "outputs": [],
   "source": []
  }
 ],
 "metadata": {
  "kernelspec": {
   "display_name": "env",
   "language": "python",
   "name": "python3"
  },
  "language_info": {
   "codemirror_mode": {
    "name": "ipython",
    "version": 3
   },
   "file_extension": ".py",
   "mimetype": "text/x-python",
   "name": "python",
   "nbconvert_exporter": "python",
   "pygments_lexer": "ipython3",
   "version": "3.10.12"
  }
 },
 "nbformat": 4,
 "nbformat_minor": 5
}
